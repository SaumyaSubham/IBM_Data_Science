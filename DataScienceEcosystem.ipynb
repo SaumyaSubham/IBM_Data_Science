{
  "nbformat": 4,
  "nbformat_minor": 0,
  "metadata": {
    "colab": {
      "provenance": []
    },
    "kernelspec": {
      "name": "python3",
      "display_name": "Python 3"
    },
    "language_info": {
      "name": "python"
    }
  },
  "cells": [
    {
      "cell_type": "markdown",
      "source": [
        "#Data Science Tools and Ecosystem"
      ],
      "metadata": {
        "id": "lMC60bgUuLCt"
      }
    },
    {
      "cell_type": "markdown",
      "source": [
        "In this notebook, Data Science Tools and Ecosystem are summarized."
      ],
      "metadata": {
        "id": "SptQi4rfu8wn"
      }
    },
    {
      "cell_type": "markdown",
      "source": [
        "**Objectives:**\n",
        "\n",
        "\n",
        "*   List popular data science languages\n",
        "*   List commonly used data science libraries\n",
        "*  Table containing Data Science tools\n",
        "*  Intro for arithmetic expression examples\n",
        "*  Arithmetic expression evaluation\n",
        "*  Conversion of minutes to hours\n",
        "\n"
      ],
      "metadata": {
        "id": "00enI6uuz0AR"
      }
    },
    {
      "cell_type": "markdown",
      "source": [
        "Some of the popular languages that Data Scientists use are:\n",
        "\n",
        "1.   Python\n",
        "2.   R\n",
        "3.   SQL\n",
        "4.   Java\n",
        "5.   Julia\n",
        "6.   Scala\n",
        "\n"
      ],
      "metadata": {
        "id": "DQ658760vLOF"
      }
    },
    {
      "cell_type": "markdown",
      "source": [
        "Some of the commonly used libraries used by Data Scientists include:\n",
        "\n",
        "\n",
        "\n",
        "1.   PyTorch\n",
        "2.   Pandas\n",
        "3.   Numpy\n",
        "4.   SciPy\n",
        "5.   Seaborn\n",
        "6.   Matplotlib\n",
        "\n"
      ],
      "metadata": {
        "id": "5Oamy09JxE_g"
      }
    },
    {
      "cell_type": "markdown",
      "source": [
        "\n",
        "Data Science Tools:\n",
        "1.   Jupyter Notebooks\n",
        "2.   RStudio\n",
        "3.   Apache Spark\n",
        "\n"
      ],
      "metadata": {
        "id": "WJVXG04NvhV0"
      }
    },
    {
      "cell_type": "markdown",
      "source": [
        "### Below are a few examples of evaluating arithmetic expressions in Python"
      ],
      "metadata": {
        "id": "ieQa2OCayWH_"
      }
    },
    {
      "cell_type": "code",
      "source": [
        "#This a simple arithmetic expression to mutiply then add integers\n",
        "(3*4)+5"
      ],
      "metadata": {
        "colab": {
          "base_uri": "https://localhost:8080/"
        },
        "id": "7mufNbLlynHd",
        "outputId": "ec2aec6d-2246-4e90-8272-f42064a9d073"
      },
      "execution_count": 1,
      "outputs": [
        {
          "output_type": "execute_result",
          "data": {
            "text/plain": [
              "17"
            ]
          },
          "metadata": {},
          "execution_count": 1
        }
      ]
    },
    {
      "cell_type": "code",
      "source": [
        "#This will convert 200 minutes to hours by diving by 60\n",
        "200/60"
      ],
      "metadata": {
        "colab": {
          "base_uri": "https://localhost:8080/"
        },
        "id": "OPc3puqVzDBs",
        "outputId": "0c8d4420-2724-43df-c149-a228251f6a76"
      },
      "execution_count": 2,
      "outputs": [
        {
          "output_type": "execute_result",
          "data": {
            "text/plain": [
              "3.3333333333333335"
            ]
          },
          "metadata": {},
          "execution_count": 2
        }
      ]
    },
    {
      "cell_type": "markdown",
      "source": [
        "## Author:\n",
        "Saumya Subham Mishra"
      ],
      "metadata": {
        "id": "GCbzxALg0vna"
      }
    }
  ]
}